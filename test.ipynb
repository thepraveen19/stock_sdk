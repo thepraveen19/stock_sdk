{
 "cells": [
  {
   "cell_type": "code",
   "execution_count": 1,
   "metadata": {},
   "outputs": [
    {
     "name": "stdout",
     "output_type": "stream",
     "text": [
      "{'t': 1622184720, 'o': 426.85, 'h': 426.9, 'l': 426.85, 'c': 426.9, 'v': 3985, 'tf': '12:22'}\n"
     ]
    }
   ],
   "source": [
    "response = {\n",
    " \"s\": \"ok\",\n",
    " \"code\": 200,\n",
    " \"d\": [\n",
    "     {\n",
    "         \"n\": \"NSE:SBIN-EQ\",\n",
    "         \"s\": \"ok\",\n",
    "         \"v\": {\n",
    "             \"ch\": 1.7,\n",
    "             \"chp\": 0.4,\n",
    "             \"lp\": 426.9,\n",
    "             \"spread\": 0.05,\n",
    "             \"ask\": 426.9,\n",
    "             \"bid\": 426.85,\n",
    "             \"open_price\": 430.5,\n",
    "             \"high_price\": 433.65,\n",
    "             \"low_price\": 423.6,\n",
    "             \"prev_close_price\": 425.2,\n",
    "             \"volume\": 38977242,\n",
    "             \"short_name\": \"SBIN-EQ\",\n",
    "             \"exchange\": \"NSE\",\n",
    "             \"description\": \"NSE:SBIN-EQ\",\n",
    "             \"original_name\": \"NSE:SBIN-EQ\",\n",
    "             \"symbol\": \"NSE:SBIN-EQ\",\n",
    "             \"fyToken\": \"10100000003045\",\n",
    "             \"tt\": \"1622160000\",\n",
    "             \"cmd\": {\n",
    "                 \"t\": 1622184720,\n",
    "                 \"o\": 426.85,\n",
    "                 \"h\": 426.9,\n",
    "                 \"l\": 426.85,\n",
    "                 \"c\": 426.9,\n",
    "                 \"v\": 3985,\n",
    "                 \"tf\": \"12:22\"\n",
    "                 }\n",
    "             }\n",
    "        }]\n",
    "     }\n",
    "\n",
    "items = response['d'][0]['v']['cmd']\n",
    "print(items)\n"
   ]
  },
  {
   "cell_type": "code",
   "execution_count": 6,
   "metadata": {},
   "outputs": [
    {
     "ename": "TypeError",
     "evalue": "an integer is required (got type str)",
     "output_type": "error",
     "traceback": [
      "\u001b[0;31m---------------------------------------------------------------------------\u001b[0m",
      "\u001b[0;31mTypeError\u001b[0m                                 Traceback (most recent call last)",
      "\u001b[0;32m/var/folders/n8/1srw60cd60ddl5b_yyc9ms5m0000gn/T/ipykernel_22861/229841210.py\u001b[0m in \u001b[0;36m<module>\u001b[0;34m\u001b[0m\n\u001b[1;32m      3\u001b[0m     \u001b[0mstock_data\u001b[0m \u001b[0;34m=\u001b[0m \u001b[0;34m{\u001b[0m\u001b[0;34m}\u001b[0m\u001b[0;34m\u001b[0m\u001b[0;34m\u001b[0m\u001b[0m\n\u001b[1;32m      4\u001b[0m     \u001b[0mstock_data\u001b[0m\u001b[0;34m[\u001b[0m\u001b[0;34m'id'\u001b[0m\u001b[0;34m]\u001b[0m \u001b[0;34m=\u001b[0m \u001b[0mstock\u001b[0m\u001b[0;34m[\u001b[0m\u001b[0;34m'v'\u001b[0m\u001b[0;34m]\u001b[0m\u001b[0;34m[\u001b[0m\u001b[0;34m'fyToken'\u001b[0m\u001b[0;34m]\u001b[0m\u001b[0;34m\u001b[0m\u001b[0;34m\u001b[0m\u001b[0m\n\u001b[0;32m----> 5\u001b[0;31m     \u001b[0mtimestamp\u001b[0m \u001b[0;34m=\u001b[0m \u001b[0mdatetime\u001b[0m\u001b[0;34m.\u001b[0m\u001b[0mfromtimestamp\u001b[0m\u001b[0;34m(\u001b[0m\u001b[0mstock\u001b[0m\u001b[0;34m[\u001b[0m\u001b[0;34m'v'\u001b[0m\u001b[0;34m]\u001b[0m\u001b[0;34m[\u001b[0m\u001b[0;34m'tt'\u001b[0m\u001b[0;34m]\u001b[0m\u001b[0;34m)\u001b[0m\u001b[0;34m\u001b[0m\u001b[0;34m\u001b[0m\u001b[0m\n\u001b[0m\u001b[1;32m      6\u001b[0m     \u001b[0mstock_data\u001b[0m\u001b[0;34m[\u001b[0m\u001b[0;34m'date'\u001b[0m\u001b[0;34m]\u001b[0m \u001b[0;34m=\u001b[0m \u001b[0mtimestamp\u001b[0m\u001b[0;34m.\u001b[0m\u001b[0mstrftime\u001b[0m\u001b[0;34m(\u001b[0m\u001b[0;34m'%Y-%m-%d'\u001b[0m\u001b[0;34m)\u001b[0m\u001b[0;34m\u001b[0m\u001b[0;34m\u001b[0m\u001b[0m\n\u001b[1;32m      7\u001b[0m     \u001b[0mstock_data\u001b[0m\u001b[0;34m[\u001b[0m\u001b[0;34m'time'\u001b[0m\u001b[0;34m]\u001b[0m \u001b[0;34m=\u001b[0m \u001b[0mtimestamp\u001b[0m\u001b[0;34m.\u001b[0m\u001b[0mstrftime\u001b[0m\u001b[0;34m(\u001b[0m\u001b[0;34m'%H:%M:%S'\u001b[0m\u001b[0;34m)\u001b[0m\u001b[0;34m\u001b[0m\u001b[0;34m\u001b[0m\u001b[0m\n",
      "\u001b[0;31mTypeError\u001b[0m: an integer is required (got type str)"
     ]
    }
   ],
   "source": [
    "data = []\n",
    "for stock in response['d']:\n",
    "    stock_data = {}\n",
    "    stock_data['id'] = stock['v']['fyToken']\n",
    "    timestamp = datetime.fromtimestamp(stock['v']['tt'])\n",
    "    stock_data['date'] = timestamp.strftime('%Y-%m-%d')\n",
    "    stock_data['time'] = timestamp.strftime('%H:%M:%S')\n",
    "    stock_data['stock_id'] = stock['n']\n",
    "    stock_data['open_price'] = stock['v']['open_price']\n",
    "    stock_data['high_price'] = stock['v']['high_price']\n",
    "    stock_data['low_price'] = stock['v']['low_price']\n",
    "    stock_data['close_price'] = stock['v']['lp']\n",
    "    data.append(stock_data)"
   ]
  }
 ],
 "metadata": {
  "kernelspec": {
   "display_name": "base",
   "language": "python",
   "name": "python3"
  },
  "language_info": {
   "codemirror_mode": {
    "name": "ipython",
    "version": 3
   },
   "file_extension": ".py",
   "mimetype": "text/x-python",
   "name": "python",
   "nbconvert_exporter": "python",
   "pygments_lexer": "ipython3",
   "version": "3.9.6"
  },
  "orig_nbformat": 4
 },
 "nbformat": 4,
 "nbformat_minor": 2
}
