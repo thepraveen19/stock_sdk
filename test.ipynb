{
 "cells": [
  {
   "cell_type": "code",
   "execution_count": null,
   "metadata": {},
   "outputs": [],
   "source": [
    "import sys\n",
    "sys.path.append('/database')\n"
   ]
  },
  {
   "cell_type": "code",
   "execution_count": 1,
   "metadata": {},
   "outputs": [],
   "source": [
    "import pandas as pd"
   ]
  },
  {
   "cell_type": "code",
   "execution_count": 8,
   "metadata": {},
   "outputs": [],
   "source": [
    "stock_data = pd.read_csv(r\"/Users/praveenkadam/Documents/Algorithmic_trading/stock_sdk/fo_mktlots.csv\")\n"
   ]
  },
  {
   "cell_type": "code",
   "execution_count": 9,
   "metadata": {},
   "outputs": [
    {
     "data": {
      "text/html": [
       "<div>\n",
       "<style scoped>\n",
       "    .dataframe tbody tr th:only-of-type {\n",
       "        vertical-align: middle;\n",
       "    }\n",
       "\n",
       "    .dataframe tbody tr th {\n",
       "        vertical-align: top;\n",
       "    }\n",
       "\n",
       "    .dataframe thead th {\n",
       "        text-align: right;\n",
       "    }\n",
       "</style>\n",
       "<table border=\"1\" class=\"dataframe\">\n",
       "  <thead>\n",
       "    <tr style=\"text-align: right;\">\n",
       "      <th></th>\n",
       "      <th>name</th>\n",
       "      <th>symbol</th>\n",
       "      <th>description</th>\n",
       "    </tr>\n",
       "  </thead>\n",
       "  <tbody>\n",
       "    <tr>\n",
       "      <th>0</th>\n",
       "      <td>AARTI INDUSTRIES LTD</td>\n",
       "      <td>NSE:AARTIIND-EQ</td>\n",
       "      <td>A chemical company engaged in the manufacturin...</td>\n",
       "    </tr>\n",
       "    <tr>\n",
       "      <th>1</th>\n",
       "      <td>ABB INDIA LIMITED</td>\n",
       "      <td>NSE:ABB-EQ</td>\n",
       "      <td>An electrical company offering a range of powe...</td>\n",
       "    </tr>\n",
       "    <tr>\n",
       "      <th>2</th>\n",
       "      <td>ALKEM LABORATORIES LTD.</td>\n",
       "      <td>NSE:ALKEM-EQ</td>\n",
       "      <td>A pharmaceutical company producing and marketi...</td>\n",
       "    </tr>\n",
       "    <tr>\n",
       "      <th>3</th>\n",
       "      <td>ABBOTT INDIA LIMITED</td>\n",
       "      <td>NSE:ABBOTINDIA-EQ</td>\n",
       "      <td>A pharmaceutical company specializing in the m...</td>\n",
       "    </tr>\n",
       "    <tr>\n",
       "      <th>4</th>\n",
       "      <td>ASIAN PAINTS LIMITED</td>\n",
       "      <td>NSE:ASIANPAINT-EQ</td>\n",
       "      <td>A manufacturer and supplier of paints, coating...</td>\n",
       "    </tr>\n",
       "    <tr>\n",
       "      <th>...</th>\n",
       "      <td>...</td>\n",
       "      <td>...</td>\n",
       "      <td>...</td>\n",
       "    </tr>\n",
       "    <tr>\n",
       "      <th>184</th>\n",
       "      <td>PI INDUSTRIES LTD</td>\n",
       "      <td>NSE:PIIND-EQ</td>\n",
       "      <td>PI Industries Limited is an agrochemicals and ...</td>\n",
       "    </tr>\n",
       "    <tr>\n",
       "      <th>185</th>\n",
       "      <td>PAGE INDUSTRIES LTD</td>\n",
       "      <td>NSE:PAGEIND-EQ</td>\n",
       "      <td>Page Industries Limited is a manufacturer and ...</td>\n",
       "    </tr>\n",
       "    <tr>\n",
       "      <th>186</th>\n",
       "      <td>DR. LAL PATH LABS LTD.</td>\n",
       "      <td>NSE:LALPATHLAB-EQ</td>\n",
       "      <td>Dr. Lal PathLabs Limited is a diagnostic labor...</td>\n",
       "    </tr>\n",
       "    <tr>\n",
       "      <th>187</th>\n",
       "      <td>VODAFONE IDEA LIMITED</td>\n",
       "      <td>NSE:IDEA-EQ</td>\n",
       "      <td>Vodafone Idea Limited is a telecommunications ...</td>\n",
       "    </tr>\n",
       "    <tr>\n",
       "      <th>188</th>\n",
       "      <td>UNITED SPIRITS LIMITED</td>\n",
       "      <td>NSE:MCDOWELL-N-EQ</td>\n",
       "      <td>United Spirits Limited is a spirits and alcoho...</td>\n",
       "    </tr>\n",
       "  </tbody>\n",
       "</table>\n",
       "<p>189 rows × 3 columns</p>\n",
       "</div>"
      ],
      "text/plain": [
       "                                     name             symbol  \\\n",
       "0    AARTI INDUSTRIES LTD                    NSE:AARTIIND-EQ   \n",
       "1    ABB INDIA LIMITED                            NSE:ABB-EQ   \n",
       "2    ALKEM LABORATORIES LTD.                    NSE:ALKEM-EQ   \n",
       "3    ABBOTT INDIA LIMITED                  NSE:ABBOTINDIA-EQ   \n",
       "4    ASIAN PAINTS LIMITED                  NSE:ASIANPAINT-EQ   \n",
       "..                                    ...                ...   \n",
       "184  PI INDUSTRIES LTD                          NSE:PIIND-EQ   \n",
       "185  PAGE INDUSTRIES LTD                      NSE:PAGEIND-EQ   \n",
       "186  DR. LAL PATH LABS LTD.                NSE:LALPATHLAB-EQ   \n",
       "187  VODAFONE IDEA LIMITED                       NSE:IDEA-EQ   \n",
       "188  UNITED SPIRITS LIMITED                NSE:MCDOWELL-N-EQ   \n",
       "\n",
       "                                           description  \n",
       "0    A chemical company engaged in the manufacturin...  \n",
       "1    An electrical company offering a range of powe...  \n",
       "2    A pharmaceutical company producing and marketi...  \n",
       "3    A pharmaceutical company specializing in the m...  \n",
       "4    A manufacturer and supplier of paints, coating...  \n",
       "..                                                 ...  \n",
       "184  PI Industries Limited is an agrochemicals and ...  \n",
       "185  Page Industries Limited is a manufacturer and ...  \n",
       "186  Dr. Lal PathLabs Limited is a diagnostic labor...  \n",
       "187  Vodafone Idea Limited is a telecommunications ...  \n",
       "188  United Spirits Limited is a spirits and alcoho...  \n",
       "\n",
       "[189 rows x 3 columns]"
      ]
     },
     "execution_count": 9,
     "metadata": {},
     "output_type": "execute_result"
    }
   ],
   "source": [
    "stock_data"
   ]
  }
 ],
 "metadata": {
  "kernelspec": {
   "display_name": "base",
   "language": "python",
   "name": "python3"
  },
  "language_info": {
   "codemirror_mode": {
    "name": "ipython",
    "version": 3
   },
   "file_extension": ".py",
   "mimetype": "text/x-python",
   "name": "python",
   "nbconvert_exporter": "python",
   "pygments_lexer": "ipython3",
   "version": "3.9.6"
  },
  "orig_nbformat": 4
 },
 "nbformat": 4,
 "nbformat_minor": 2
}
